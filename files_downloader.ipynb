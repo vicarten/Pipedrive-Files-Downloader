{
 "cells": [
  {
   "cell_type": "code",
   "execution_count": null,
   "id": "838410a5",
   "metadata": {},
   "outputs": [],
   "source": [
    "#install packages\n",
    "!pip install selenium\n",
    "!pip install webdriver-manager"
   ]
  },
  {
   "cell_type": "code",
   "execution_count": 6,
   "id": "24c2e89e",
   "metadata": {},
   "outputs": [
    {
     "name": "stdout",
     "output_type": "stream",
     "text": [
      "Enter your Pipedrive Login: vten@esa-solar.com\n",
      "Enter your Pipedrive Password: ········\n",
      "Enter the URL of the page from which you want to download the files: https://esasolardevelopment-c6639b.pipedrive.com/deal/34771\n"
     ]
    },
    {
     "name": "stderr",
     "output_type": "stream",
     "text": [
      "C:\\Users\\Victoria Ten\\AppData\\Local\\Temp\\ipykernel_8944\\793087039.py:19: DeprecationWarning: executable_path has been deprecated, please pass in a Service object\n",
      "  driver = webdriver.Chrome(ChromeDriverManager().install())\n"
     ]
    },
    {
     "name": "stdout",
     "output_type": "stream",
     "text": [
      "Enter the URL of the page from which you want to download the files or enter 0 to exit: 0\n"
     ]
    }
   ],
   "source": [
    "# import all packages\n",
    "from selenium import webdriver\n",
    "from webdriver_manager.chrome import ChromeDriverManager\n",
    "from selenium.webdriver.common.by import By\n",
    "from selenium.webdriver.support import expected_conditions as EC\n",
    "from selenium.webdriver.support.ui import WebDriverWait as wait\n",
    "import time\n",
    "from selenium.common.exceptions import TimeoutException\n",
    "from selenium.common.exceptions import NoSuchElementException\n",
    "import getpass\n",
    "\n",
    "#information(inputs)\n",
    "login = input(\"Enter your Pipedrive Login: \")\n",
    "password = getpass.getpass(\"Enter your Pipedrive Password: \")\n",
    "url = input(\"Enter the URL of the page from which you want to download the files: \")\n",
    "\n",
    "while url != \"0\":\n",
    "    # open a new window\n",
    "    driver = webdriver.Chrome(ChromeDriverManager().install())\n",
    "    driver.get(url)\n",
    "    driver.maximize_window()\n",
    "\n",
    "    # login to Pipedrive\n",
    "    driver.find_element(\"name\", \"login\").send_keys(login)\n",
    "    driver.find_element(\"name\", \"password\").send_keys(password + \"\\n\")\n",
    "\n",
    "    # click to all 'show all' buttons\n",
    "    \n",
    "\n",
    "    def show_all():\n",
    "        try:\n",
    "            wait(driver, 10).until(EC.element_to_be_clickable((By.XPATH, \"//span[text()='Show all']\"))).click()\n",
    "            show_all()\n",
    "        except TimeoutException:\n",
    "            pass\n",
    "\n",
    "    show_all()\n",
    "\n",
    "    # click to all 'more actions' buttons\n",
    "    dropdowns = driver.find_elements(By.XPATH, \"//button[@aria-label='More actions']//*[name()='svg']\")\n",
    "\n",
    "    for i in range(1, len(dropdowns) + 1):\n",
    "        wait(driver, 5).until(EC.element_to_be_clickable((By.XPATH, f\"(//button[@aria-label='More actions']//*[name()='svg'])[{str(i)}]\"))).click()\n",
    "\n",
    "        try:\n",
    "            driver.find_element(By.XPATH, \"//span[normalize-space()='Download']\")\n",
    "            wait(driver, 1).until(EC.element_to_be_clickable((By.XPATH, \"//span[normalize-space()='Download']\"))).click()\n",
    "        except NoSuchElementException:\n",
    "            pass\n",
    "\n",
    "        wait(driver, 5).until(EC.element_to_be_clickable((By.XPATH, f\"(//button[@aria-label='More actions']//*[name()='svg'])[{str(i)}]\"))).click()\n",
    "\n",
    "    driver.quit()\n",
    "\n",
    "    url = input(\"Enter the URL of the page from which you want to download the files or enter 0 to exit: \")\n",
    "\n",
    "\n",
    "\n",
    "\n"
   ]
  },
  {
   "cell_type": "code",
   "execution_count": null,
   "id": "9dbfd3ee",
   "metadata": {},
   "outputs": [],
   "source": []
  },
  {
   "cell_type": "code",
   "execution_count": null,
   "id": "afda0809",
   "metadata": {},
   "outputs": [],
   "source": []
  },
  {
   "cell_type": "code",
   "execution_count": null,
   "id": "1f26c621",
   "metadata": {},
   "outputs": [],
   "source": []
  },
  {
   "cell_type": "code",
   "execution_count": null,
   "id": "18fa5bdb",
   "metadata": {},
   "outputs": [],
   "source": []
  },
  {
   "cell_type": "code",
   "execution_count": null,
   "id": "4237f5b0",
   "metadata": {},
   "outputs": [],
   "source": []
  },
  {
   "cell_type": "code",
   "execution_count": null,
   "id": "f833102a",
   "metadata": {},
   "outputs": [],
   "source": []
  },
  {
   "cell_type": "code",
   "execution_count": null,
   "id": "aeb2056f",
   "metadata": {},
   "outputs": [],
   "source": []
  }
 ],
 "metadata": {
  "kernelspec": {
   "display_name": "Python 3 (ipykernel)",
   "language": "python",
   "name": "python3"
  },
  "language_info": {
   "codemirror_mode": {
    "name": "ipython",
    "version": 3
   },
   "file_extension": ".py",
   "mimetype": "text/x-python",
   "name": "python",
   "nbconvert_exporter": "python",
   "pygments_lexer": "ipython3",
   "version": "3.11.3"
  }
 },
 "nbformat": 4,
 "nbformat_minor": 5
}
