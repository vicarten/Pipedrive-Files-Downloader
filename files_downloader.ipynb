{
 "cells": [
  {
   "cell_type": "code",
   "execution_count": 1,
   "id": "838410a5",
   "metadata": {},
   "outputs": [
    {
     "name": "stdout",
     "output_type": "stream",
     "text": [
      "Requirement already satisfied: requests in c:\\users\\victoria ten\\appdata\\local\\programs\\python\\python311\\lib\\site-packages (2.30.0)\n",
      "Requirement already satisfied: charset-normalizer<4,>=2 in c:\\users\\victoria ten\\appdata\\local\\programs\\python\\python311\\lib\\site-packages (from requests) (3.1.0)\n",
      "Requirement already satisfied: idna<4,>=2.5 in c:\\users\\victoria ten\\appdata\\local\\programs\\python\\python311\\lib\\site-packages (from requests) (3.4)\n",
      "Requirement already satisfied: urllib3<3,>=1.21.1 in c:\\users\\victoria ten\\appdata\\local\\programs\\python\\python311\\lib\\site-packages (from requests) (2.0.2)\n",
      "Requirement already satisfied: certifi>=2017.4.17 in c:\\users\\victoria ten\\appdata\\local\\programs\\python\\python311\\lib\\site-packages (from requests) (2023.5.7)\n"
     ]
    },
    {
     "name": "stderr",
     "output_type": "stream",
     "text": [
      "\n",
      "[notice] A new release of pip available: 22.3.1 -> 23.1.2\n",
      "[notice] To update, run: python.exe -m pip install --upgrade pip\n"
     ]
    },
    {
     "name": "stdout",
     "output_type": "stream",
     "text": [
      "Requirement already satisfied: selenium in c:\\users\\victoria ten\\appdata\\local\\programs\\python\\python311\\lib\\site-packages (4.9.1)\n",
      "Requirement already satisfied: urllib3[socks]<3,>=1.26 in c:\\users\\victoria ten\\appdata\\local\\programs\\python\\python311\\lib\\site-packages (from selenium) (2.0.2)\n",
      "Requirement already satisfied: trio~=0.17 in c:\\users\\victoria ten\\appdata\\local\\programs\\python\\python311\\lib\\site-packages (from selenium) (0.22.0)\n",
      "Requirement already satisfied: trio-websocket~=0.9 in c:\\users\\victoria ten\\appdata\\local\\programs\\python\\python311\\lib\\site-packages (from selenium) (0.10.2)\n",
      "Requirement already satisfied: certifi>=2021.10.8 in c:\\users\\victoria ten\\appdata\\local\\programs\\python\\python311\\lib\\site-packages (from selenium) (2023.5.7)\n",
      "Requirement already satisfied: attrs>=19.2.0 in c:\\users\\victoria ten\\appdata\\local\\programs\\python\\python311\\lib\\site-packages (from trio~=0.17->selenium) (23.1.0)\n",
      "Requirement already satisfied: sortedcontainers in c:\\users\\victoria ten\\appdata\\local\\programs\\python\\python311\\lib\\site-packages (from trio~=0.17->selenium) (2.4.0)\n",
      "Requirement already satisfied: async-generator>=1.9 in c:\\users\\victoria ten\\appdata\\local\\programs\\python\\python311\\lib\\site-packages (from trio~=0.17->selenium) (1.10)\n",
      "Requirement already satisfied: idna in c:\\users\\victoria ten\\appdata\\local\\programs\\python\\python311\\lib\\site-packages (from trio~=0.17->selenium) (3.4)\n",
      "Requirement already satisfied: outcome in c:\\users\\victoria ten\\appdata\\local\\programs\\python\\python311\\lib\\site-packages (from trio~=0.17->selenium) (1.2.0)\n",
      "Requirement already satisfied: sniffio in c:\\users\\victoria ten\\appdata\\local\\programs\\python\\python311\\lib\\site-packages (from trio~=0.17->selenium) (1.3.0)\n",
      "Requirement already satisfied: cffi>=1.14 in c:\\users\\victoria ten\\appdata\\local\\programs\\python\\python311\\lib\\site-packages (from trio~=0.17->selenium) (1.15.1)\n",
      "Requirement already satisfied: exceptiongroup in c:\\users\\victoria ten\\appdata\\local\\programs\\python\\python311\\lib\\site-packages (from trio-websocket~=0.9->selenium) (1.1.1)\n",
      "Requirement already satisfied: wsproto>=0.14 in c:\\users\\victoria ten\\appdata\\local\\programs\\python\\python311\\lib\\site-packages (from trio-websocket~=0.9->selenium) (1.2.0)\n",
      "Requirement already satisfied: pysocks!=1.5.7,<2.0,>=1.5.6 in c:\\users\\victoria ten\\appdata\\local\\programs\\python\\python311\\lib\\site-packages (from urllib3[socks]<3,>=1.26->selenium) (1.7.1)\n",
      "Requirement already satisfied: pycparser in c:\\users\\victoria ten\\appdata\\local\\programs\\python\\python311\\lib\\site-packages (from cffi>=1.14->trio~=0.17->selenium) (2.21)\n",
      "Requirement already satisfied: h11<1,>=0.9.0 in c:\\users\\victoria ten\\appdata\\local\\programs\\python\\python311\\lib\\site-packages (from wsproto>=0.14->trio-websocket~=0.9->selenium) (0.14.0)\n"
     ]
    },
    {
     "name": "stderr",
     "output_type": "stream",
     "text": [
      "\n",
      "[notice] A new release of pip available: 22.3.1 -> 23.1.2\n",
      "[notice] To update, run: python.exe -m pip install --upgrade pip\n"
     ]
    },
    {
     "name": "stdout",
     "output_type": "stream",
     "text": [
      "Requirement already satisfied: BeautifulSoup4 in c:\\users\\victoria ten\\appdata\\local\\programs\\python\\python311\\lib\\site-packages (4.12.2)"
     ]
    },
    {
     "name": "stderr",
     "output_type": "stream",
     "text": [
      "\n",
      "[notice] A new release of pip available: 22.3.1 -> 23.1.2\n",
      "[notice] To update, run: python.exe -m pip install --upgrade pip\n"
     ]
    },
    {
     "name": "stdout",
     "output_type": "stream",
     "text": [
      "\n",
      "Requirement already satisfied: soupsieve>1.2 in c:\\users\\victoria ten\\appdata\\local\\programs\\python\\python311\\lib\\site-packages (from BeautifulSoup4) (2.4.1)\n",
      "Requirement already satisfied: webdriver-manager in c:\\users\\victoria ten\\appdata\\local\\programs\\python\\python311\\lib\\site-packages (3.8.6)\n",
      "Requirement already satisfied: requests in c:\\users\\victoria ten\\appdata\\local\\programs\\python\\python311\\lib\\site-packages (from webdriver-manager) (2.30.0)\n",
      "Requirement already satisfied: python-dotenv in c:\\users\\victoria ten\\appdata\\local\\programs\\python\\python311\\lib\\site-packages (from webdriver-manager) (1.0.0)\n",
      "Requirement already satisfied: tqdm in c:\\users\\victoria ten\\appdata\\local\\programs\\python\\python311\\lib\\site-packages (from webdriver-manager) (4.65.0)\n",
      "Requirement already satisfied: packaging in c:\\users\\victoria ten\\appdata\\local\\programs\\python\\python311\\lib\\site-packages (from webdriver-manager) (23.1)\n",
      "Requirement already satisfied: charset-normalizer<4,>=2 in c:\\users\\victoria ten\\appdata\\local\\programs\\python\\python311\\lib\\site-packages (from requests->webdriver-manager) (3.1.0)\n",
      "Requirement already satisfied: idna<4,>=2.5 in c:\\users\\victoria ten\\appdata\\local\\programs\\python\\python311\\lib\\site-packages (from requests->webdriver-manager) (3.4)\n",
      "Requirement already satisfied: urllib3<3,>=1.21.1 in c:\\users\\victoria ten\\appdata\\local\\programs\\python\\python311\\lib\\site-packages (from requests->webdriver-manager) (2.0.2)\n",
      "Requirement already satisfied: certifi>=2017.4.17 in c:\\users\\victoria ten\\appdata\\local\\programs\\python\\python311\\lib\\site-packages (from requests->webdriver-manager) (2023.5.7)\n",
      "Requirement already satisfied: colorama in c:\\users\\victoria ten\\appdata\\local\\programs\\python\\python311\\lib\\site-packages (from tqdm->webdriver-manager) (0.4.6)\n"
     ]
    },
    {
     "name": "stderr",
     "output_type": "stream",
     "text": [
      "\n",
      "[notice] A new release of pip available: 22.3.1 -> 23.1.2\n",
      "[notice] To update, run: python.exe -m pip install --upgrade pip\n"
     ]
    }
   ],
   "source": [
    "#install packages\n",
    "!pip install selenium\n",
    "!pip install BeautifulSoup4\n",
    "!pip install webdriver-manager"
   ]
  },
  {
   "cell_type": "code",
   "execution_count": 6,
   "id": "24c2e89e",
   "metadata": {},
   "outputs": [
    {
     "name": "stdout",
     "output_type": "stream",
     "text": [
      "Enter your Pipedrive Login: vten@esa-solar.com\n",
      "Enter your Pipedrive Password: ········\n",
      "Enter the URL of the page from which you want to download the files: https://esasolardevelopment-c6639b.pipedrive.com/deal/34771\n"
     ]
    },
    {
     "name": "stderr",
     "output_type": "stream",
     "text": [
      "C:\\Users\\Victoria Ten\\AppData\\Local\\Temp\\ipykernel_7912\\4031782561.py:19: DeprecationWarning: executable_path has been deprecated, please pass in a Service object\n",
      "  driver = webdriver.Chrome(ChromeDriverManager().install())\n"
     ]
    },
    {
     "name": "stdout",
     "output_type": "stream",
     "text": [
      "Enter the URL of the page from which you want to download the files or enter 0 to exit: https://esasolardevelopment-c6639b.pipedrive.com/deal/34771\n",
      "Enter the URL of the page from which you want to download the files or enter 0 to exit: 0\n"
     ]
    }
   ],
   "source": [
    "# import all packages\n",
    "from selenium import webdriver\n",
    "from webdriver_manager.chrome import ChromeDriverManager\n",
    "from selenium.webdriver.common.by import By\n",
    "from selenium.webdriver.support import expected_conditions as EC\n",
    "from selenium.webdriver.support.ui import WebDriverWait as wait\n",
    "import time\n",
    "from selenium.common.exceptions import TimeoutException\n",
    "from selenium.common.exceptions import NoSuchElementException\n",
    "import getpass\n",
    "\n",
    "#information(inputs)\n",
    "login = input(\"Enter your Pipedrive Login: \")\n",
    "password = getpass.getpass(\"Enter your Pipedrive Password: \")\n",
    "url = input(\"Enter the URL of the page from which you want to download the files: \")\n",
    "\n",
    "while url != \"0\":\n",
    "    # open a new window\n",
    "    driver = webdriver.Chrome(ChromeDriverManager().install())\n",
    "    driver.get(url)\n",
    "    driver.maximize_window()\n",
    "\n",
    "    # login to Pipedrive\n",
    "    driver.find_element(\"name\", \"login\").send_keys(login)\n",
    "    driver.find_element(\"name\", \"password\").send_keys(password + \"\\n\")\n",
    "\n",
    "    # click to all 'show all' buttons\n",
    "    \n",
    "\n",
    "    def show_all():\n",
    "        try:\n",
    "            wait(driver, 10).until(EC.element_to_be_clickable((By.XPATH, \"//span[text()='Show all']\"))).click()\n",
    "            show_all()\n",
    "        except TimeoutException:\n",
    "            pass\n",
    "\n",
    "    #time.sleep(3)\n",
    "    show_all()\n",
    "\n",
    "    # click to all 'more actions' buttons\n",
    "    dropdowns = driver.find_elements(By.XPATH, \"//button[@aria-label='More actions']//*[name()='svg']\")\n",
    "\n",
    "    for i in range(1, len(dropdowns) + 1):\n",
    "        wait(driver, 5).until(EC.element_to_be_clickable((By.XPATH, f\"(//button[@aria-label='More actions']//*[name()='svg'])[{str(i)}]\"))).click()\n",
    "\n",
    "        try:\n",
    "            driver.find_element(By.XPATH, \"//span[normalize-space()='Download']\")\n",
    "            wait(driver, 1).until(EC.element_to_be_clickable((By.XPATH, \"//span[normalize-space()='Download']\"))).click()\n",
    "        except NoSuchElementException:\n",
    "            pass\n",
    "\n",
    "        wait(driver, 5).until(EC.element_to_be_clickable((By.XPATH, f\"(//button[@aria-label='More actions']//*[name()='svg'])[{str(i)}]\"))).click()\n",
    "\n",
    "    driver.quit()\n",
    "\n",
    "    url = input(\"Enter the URL of the page from which you want to download the files or enter 0 to exit: \")\n",
    "\n",
    "\n",
    "\n",
    "\n"
   ]
  },
  {
   "cell_type": "code",
   "execution_count": null,
   "id": "9dbfd3ee",
   "metadata": {},
   "outputs": [],
   "source": []
  },
  {
   "cell_type": "code",
   "execution_count": null,
   "id": "afda0809",
   "metadata": {},
   "outputs": [],
   "source": []
  },
  {
   "cell_type": "code",
   "execution_count": null,
   "id": "1f26c621",
   "metadata": {},
   "outputs": [],
   "source": []
  },
  {
   "cell_type": "code",
   "execution_count": null,
   "id": "18fa5bdb",
   "metadata": {},
   "outputs": [],
   "source": []
  },
  {
   "cell_type": "code",
   "execution_count": null,
   "id": "4237f5b0",
   "metadata": {},
   "outputs": [],
   "source": []
  },
  {
   "cell_type": "code",
   "execution_count": null,
   "id": "f833102a",
   "metadata": {},
   "outputs": [],
   "source": []
  },
  {
   "cell_type": "code",
   "execution_count": null,
   "id": "aeb2056f",
   "metadata": {},
   "outputs": [],
   "source": []
  }
 ],
 "metadata": {
  "kernelspec": {
   "display_name": "Python 3 (ipykernel)",
   "language": "python",
   "name": "python3"
  },
  "language_info": {
   "codemirror_mode": {
    "name": "ipython",
    "version": 3
   },
   "file_extension": ".py",
   "mimetype": "text/x-python",
   "name": "python",
   "nbconvert_exporter": "python",
   "pygments_lexer": "ipython3",
   "version": "3.11.3"
  }
 },
 "nbformat": 4,
 "nbformat_minor": 5
}
